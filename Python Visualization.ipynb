{
 "cells": [
  {
   "cell_type": "code",
   "execution_count": 1,
   "id": "0730243c",
   "metadata": {},
   "outputs": [],
   "source": [
    "import sklearn.cluster as cluster\n",
    "import pandas as pd\n",
    "import matplotlib.pyplot as plt\n",
    "import seaborn as sns\n",
    "import numpy as np\n",
    "from sklearn.cluster import KMeans\n",
    "from sklearn.model_selection import train_test_split\n",
    "from sklearn.linear_model import LinearRegression"
   ]
  },
  {
   "cell_type": "code",
   "execution_count": 2,
   "id": "f2259c03",
   "metadata": {},
   "outputs": [
    {
     "data": {
      "text/html": [
       "<div>\n",
       "<style scoped>\n",
       "    .dataframe tbody tr th:only-of-type {\n",
       "        vertical-align: middle;\n",
       "    }\n",
       "\n",
       "    .dataframe tbody tr th {\n",
       "        vertical-align: top;\n",
       "    }\n",
       "\n",
       "    .dataframe thead th {\n",
       "        text-align: right;\n",
       "    }\n",
       "</style>\n",
       "<table border=\"1\" class=\"dataframe\">\n",
       "  <thead>\n",
       "    <tr style=\"text-align: right;\">\n",
       "      <th></th>\n",
       "      <th>Data As Of</th>\n",
       "      <th>Start Date</th>\n",
       "      <th>End Date</th>\n",
       "      <th>Group</th>\n",
       "      <th>Year</th>\n",
       "      <th>Month</th>\n",
       "      <th>State</th>\n",
       "      <th>Sex</th>\n",
       "      <th>Age Group</th>\n",
       "      <th>COVID-19 Deaths</th>\n",
       "      <th>Total Deaths</th>\n",
       "      <th>Pneumonia Deaths</th>\n",
       "      <th>Pneumonia and COVID-19 Deaths</th>\n",
       "      <th>Influenza Deaths</th>\n",
       "      <th>Pneumonia, Influenza, or COVID-19 Deaths</th>\n",
       "      <th>Footnote</th>\n",
       "    </tr>\n",
       "  </thead>\n",
       "  <tbody>\n",
       "    <tr>\n",
       "      <th>0</th>\n",
       "      <td>05/11/2022</td>\n",
       "      <td>01/01/2020</td>\n",
       "      <td>05/07/2022</td>\n",
       "      <td>By Total</td>\n",
       "      <td>NaN</td>\n",
       "      <td>NaN</td>\n",
       "      <td>United States</td>\n",
       "      <td>All Sexes</td>\n",
       "      <td>All Ages</td>\n",
       "      <td>998698.0</td>\n",
       "      <td>7955604.0</td>\n",
       "      <td>887976.0</td>\n",
       "      <td>515907.0</td>\n",
       "      <td>11255.0</td>\n",
       "      <td>1380381.0</td>\n",
       "      <td>NaN</td>\n",
       "    </tr>\n",
       "    <tr>\n",
       "      <th>1</th>\n",
       "      <td>05/11/2022</td>\n",
       "      <td>01/01/2020</td>\n",
       "      <td>05/07/2022</td>\n",
       "      <td>By Total</td>\n",
       "      <td>NaN</td>\n",
       "      <td>NaN</td>\n",
       "      <td>United States</td>\n",
       "      <td>All Sexes</td>\n",
       "      <td>Under 1 year</td>\n",
       "      <td>275.0</td>\n",
       "      <td>44604.0</td>\n",
       "      <td>557.0</td>\n",
       "      <td>35.0</td>\n",
       "      <td>30.0</td>\n",
       "      <td>826.0</td>\n",
       "      <td>NaN</td>\n",
       "    </tr>\n",
       "    <tr>\n",
       "      <th>2</th>\n",
       "      <td>05/11/2022</td>\n",
       "      <td>01/01/2020</td>\n",
       "      <td>05/07/2022</td>\n",
       "      <td>By Total</td>\n",
       "      <td>NaN</td>\n",
       "      <td>NaN</td>\n",
       "      <td>United States</td>\n",
       "      <td>All Sexes</td>\n",
       "      <td>0-17 years</td>\n",
       "      <td>1045.0</td>\n",
       "      <td>79133.0</td>\n",
       "      <td>1604.0</td>\n",
       "      <td>276.0</td>\n",
       "      <td>216.0</td>\n",
       "      <td>2583.0</td>\n",
       "      <td>NaN</td>\n",
       "    </tr>\n",
       "    <tr>\n",
       "      <th>3</th>\n",
       "      <td>05/11/2022</td>\n",
       "      <td>01/01/2020</td>\n",
       "      <td>05/07/2022</td>\n",
       "      <td>By Total</td>\n",
       "      <td>NaN</td>\n",
       "      <td>NaN</td>\n",
       "      <td>United States</td>\n",
       "      <td>All Sexes</td>\n",
       "      <td>1-4 years</td>\n",
       "      <td>138.0</td>\n",
       "      <td>8356.0</td>\n",
       "      <td>327.0</td>\n",
       "      <td>32.0</td>\n",
       "      <td>75.0</td>\n",
       "      <td>506.0</td>\n",
       "      <td>NaN</td>\n",
       "    </tr>\n",
       "    <tr>\n",
       "      <th>4</th>\n",
       "      <td>05/11/2022</td>\n",
       "      <td>01/01/2020</td>\n",
       "      <td>05/07/2022</td>\n",
       "      <td>By Total</td>\n",
       "      <td>NaN</td>\n",
       "      <td>NaN</td>\n",
       "      <td>United States</td>\n",
       "      <td>All Sexes</td>\n",
       "      <td>5-14 years</td>\n",
       "      <td>334.0</td>\n",
       "      <td>13227.0</td>\n",
       "      <td>462.0</td>\n",
       "      <td>107.0</td>\n",
       "      <td>86.0</td>\n",
       "      <td>773.0</td>\n",
       "      <td>NaN</td>\n",
       "    </tr>\n",
       "  </tbody>\n",
       "</table>\n",
       "</div>"
      ],
      "text/plain": [
       "   Data As Of  Start Date    End Date     Group  Year  Month          State  \\\n",
       "0  05/11/2022  01/01/2020  05/07/2022  By Total   NaN    NaN  United States   \n",
       "1  05/11/2022  01/01/2020  05/07/2022  By Total   NaN    NaN  United States   \n",
       "2  05/11/2022  01/01/2020  05/07/2022  By Total   NaN    NaN  United States   \n",
       "3  05/11/2022  01/01/2020  05/07/2022  By Total   NaN    NaN  United States   \n",
       "4  05/11/2022  01/01/2020  05/07/2022  By Total   NaN    NaN  United States   \n",
       "\n",
       "         Sex     Age Group  COVID-19 Deaths  Total Deaths  Pneumonia Deaths  \\\n",
       "0  All Sexes      All Ages         998698.0     7955604.0          887976.0   \n",
       "1  All Sexes  Under 1 year            275.0       44604.0             557.0   \n",
       "2  All Sexes    0-17 years           1045.0       79133.0            1604.0   \n",
       "3  All Sexes     1-4 years            138.0        8356.0             327.0   \n",
       "4  All Sexes    5-14 years            334.0       13227.0             462.0   \n",
       "\n",
       "   Pneumonia and COVID-19 Deaths  Influenza Deaths  \\\n",
       "0                       515907.0           11255.0   \n",
       "1                           35.0              30.0   \n",
       "2                          276.0             216.0   \n",
       "3                           32.0              75.0   \n",
       "4                          107.0              86.0   \n",
       "\n",
       "   Pneumonia, Influenza, or COVID-19 Deaths Footnote  \n",
       "0                                 1380381.0      NaN  \n",
       "1                                     826.0      NaN  \n",
       "2                                    2583.0      NaN  \n",
       "3                                     506.0      NaN  \n",
       "4                                     773.0      NaN  "
      ]
     },
     "execution_count": 2,
     "metadata": {},
     "output_type": "execute_result"
    }
   ],
   "source": [
    "#Visualisasi data covid-19 di us\n",
    "df = pd.read_csv('us-covid.csv')\n",
    "df.head()"
   ]
  },
  {
   "cell_type": "code",
   "execution_count": 3,
   "id": "6fbba5d9",
   "metadata": {},
   "outputs": [
    {
     "name": "stdout",
     "output_type": "stream",
     "text": [
      "['Alabama' 'Alaska' 'Arizona' 'Arkansas' 'California' 'Colorado'\n",
      " 'Connecticut' 'Delaware' 'District of Columbia' 'Florida' 'Georgia'\n",
      " 'Hawaii' 'Idaho' 'Illinois' 'Indiana' 'Iowa' 'Kansas' 'Kentucky'\n",
      " 'Louisiana' 'Maine' 'Maryland' 'Massachusetts' 'Michigan' 'Minnesota'\n",
      " 'Mississippi' 'Missouri' 'Montana' 'Nebraska' 'Nevada' 'New Hampshire'\n",
      " 'New Jersey' 'New Mexico' 'New York' 'New York City' 'North Carolina'\n",
      " 'North Dakota' 'Ohio' 'Oklahoma' 'Oregon' 'Pennsylvania' 'Puerto Rico'\n",
      " 'Rhode Island' 'South Carolina' 'South Dakota' 'Tennessee' 'Texas' 'Utah'\n",
      " 'Vermont' 'Virginia' 'Washington' 'West Virginia' 'Wisconsin' 'Wyoming']\n"
     ]
    },
    {
     "name": "stderr",
     "output_type": "stream",
     "text": [
      "C:\\Users\\yulia\\AppData\\Local\\Temp\\ipykernel_20160\\1081809137.py:3: UserWarning: Boolean Series key will be reindexed to match DataFrame index.\n",
      "  unique_states = df[df['COVID-19 Deaths'] > 0][df['State'] != 'United States']['State'].unique()\n"
     ]
    }
   ],
   "source": [
    "#1) menampilan data covid setiap negara bagian us pada tahun 2020\n",
    "#Mengambil data negara bagian tanpa ada duplikasi data\n",
    "unique_states = df[df['COVID-19 Deaths'] > 0][df['State'] != 'United States']['State'].unique()\n",
    "unique_states.sort()\n",
    "print(unique_states)"
   ]
  },
  {
   "cell_type": "code",
   "execution_count": 4,
   "id": "3c511bcd",
   "metadata": {},
   "outputs": [
    {
     "name": "stderr",
     "output_type": "stream",
     "text": [
      "C:\\Users\\yulia\\AppData\\Local\\Temp\\ipykernel_20160\\3763128363.py:4: UserWarning: Boolean Series key will be reindexed to match DataFrame index.\n",
      "  covid_cases.append(df[df['COVID-19 Deaths'] > 0][df['State']==i][df['State'] != 'United States'][df['Sex'] == 'All Sexes']\n"
     ]
    },
    {
     "name": "stdout",
     "output_type": "stream",
     "text": [
      "[6706, 254, 9321, 4027, 33577, 5073, 6298, 1096, 1004, 21827, 10454, 365, 1541, 16721, 9775, 4769, 3510, 4619, 7066, 465, 6729, 10221, 12340, 5834, 5162, 8059, 1269, 2253, 3527, 828, 18164, 2886, 16189, 22282, 8789, 1513, 15097, 5248, 1612, 18407, 1629, 1918, 5705, 1715, 7927, 33542, 1657, 146, 6156, 3703, 1564, 6286, 461]\n"
     ]
    }
   ],
   "source": [
    "#1) menampilan data covid setiap negara bagian us pada tahun 2020\n",
    "covid_cases = []\n",
    "for i in unique_states:\n",
    "    covid_cases.append(df[df['COVID-19 Deaths'] > 0][df['State']==i][df['State'] != 'United States'][df['Sex'] == 'All Sexes']\n",
    "                       [df['Age Group'] == 'All Ages'][df['Group'] == 'By Year'][df['Year']==2020].loc[:,'COVID-19 Deaths'].sum())\n",
    "\n",
    "covid_cases = [int(i) for i in covid_cases]\n",
    "print(covid_cases)"
   ]
  },
  {
   "cell_type": "code",
   "execution_count": 5,
   "id": "daa25331",
   "metadata": {
    "scrolled": true
   },
   "outputs": [
    {
     "name": "stdout",
     "output_type": "stream",
     "text": [
      "{('Oklahoma', 5248), ('Missouri', 8059), ('Georgia', 10454), ('New York', 16189), ('Vermont', 146), ('Delaware', 1096), ('West Virginia', 1564), ('Illinois', 16721), ('New Jersey', 18164), ('Puerto Rico', 1629), ('Utah', 1657), ('Virginia', 6156), ('Ohio', 15097), ('Washington', 3703), ('Wisconsin', 6286), ('Florida', 21827), ('Texas', 33542), ('Arizona', 9321), ('Arkansas', 4027), ('Massachusetts', 10221), ('South Dakota', 1715), ('District of Columbia', 1004), ('Tennessee', 7927), ('Connecticut', 6298), ('Indiana', 9775), ('Iowa', 4769), ('Michigan', 12340), ('Mississippi', 5162), ('Montana', 1269), ('Nebraska', 2253), ('Kansas', 3510), ('Kentucky', 4619), ('Alaska', 254), ('Hawaii', 365), ('Alabama', 6706), ('Maryland', 6729), ('Nevada', 3527), ('Minnesota', 5834), ('New Hampshire', 828), ('Louisiana', 7066), ('New York City', 22282), ('Rhode Island', 1918), ('Oregon', 1612), ('South Carolina', 5705), ('Pennsylvania', 18407), ('North Dakota', 1513), ('Wyoming', 461), ('California', 33577), ('Colorado', 5073), ('Maine', 465), ('North Carolina', 8789), ('Idaho', 1541), ('New Mexico', 2886)}\n"
     ]
    }
   ],
   "source": [
    "#1 menampilan data covid setiap negara bagian us pada tahun 2020\n",
    "print(set(zip(unique_states,covid_cases)))"
   ]
  },
  {
   "cell_type": "code",
   "execution_count": 6,
   "id": "998f5142",
   "metadata": {
    "scrolled": true
   },
   "outputs": [
    {
     "data": {
      "image/png": "[encoded data removed]",
      "text/plain": [
       "<Figure size 720x720 with 1 Axes>"
      ]
     },
     "metadata": {
      "needs_background": "light"
     },
     "output_type": "display_data"
    }
   ],
   "source": [
    "#1 menampilan data covid setiap negara bagian us pada tahun 2020\n",
    "#Menampilkan data negara bagian dalam bentuk grafik batang\n",
    "plt.figure(figsize=(10,10))\n",
    "plt.barh(unique_states,covid_cases)\n",
    "plt.tick_params(size=20,color='black')\n",
    "plt.title('Jumlah Kasus Covid berdasarkan State pada tahun 2020')\n",
    "plt.show()"
   ]
  },
  {
   "cell_type": "code",
   "execution_count": 7,
   "id": "31735a8d",
   "metadata": {},
   "outputs": [
    {
     "name": "stderr",
     "output_type": "stream",
     "text": [
      "C:\\Users\\yulia\\AppData\\Local\\Temp\\ipykernel_20160\\3433500608.py:9: UserWarning: Boolean Series key will be reindexed to match DataFrame index.\n",
      "  covid_cases.append(df[df['COVID-19 Deaths'] > 0][df['State']==i][df['State'] != 'United States'][df['Sex'] == 'All Sexes']\n",
      "C:\\Users\\yulia\\AppData\\Local\\Temp\\ipykernel_20160\\3433500608.py:11: UserWarning: Boolean Series key will be reindexed to match DataFrame index.\n",
      "  pneumonia_cases.append(df[df['Pneumonia Deaths'] > 0][df['State']==i][df['State'] != 'United States'][df['Sex'] == 'All Sexes']\n",
      "C:\\Users\\yulia\\AppData\\Local\\Temp\\ipykernel_20160\\3433500608.py:13: UserWarning: Boolean Series key will be reindexed to match DataFrame index.\n",
      "  influenza_cases.append(df[df['Influenza Deaths'] > 0][df['State']==i][df['State'] != 'United States'][df['Sex'] == 'All Sexes']\n"
     ]
    },
    {
     "name": "stdout",
     "output_type": "stream",
     "text": [
      "Hasil untuk kasus 2020\n",
      "Jumlah kasus Covid-19\n",
      "{('Indiana', 9775), ('Alabama', 6706), ('Nevada', 3527), ('Maryland', 6729)}\n",
      "Jumlah kasus Pneumonia\n",
      "{('Maryland', 5856), ('Alabama', 5213), ('Nevada', 4354), ('Indiana', 8902)}\n",
      "Jumlah kasus Influenza\n",
      "{('Indiana', 178), ('Maryland', 151), ('Nevada', 56), ('Alabama', 140)}\n",
      "==================================\n"
     ]
    },
    {
     "name": "stderr",
     "output_type": "stream",
     "text": [
      "C:\\Users\\yulia\\AppData\\Local\\Temp\\ipykernel_20160\\3433500608.py:41: UserWarning: Boolean Series key will be reindexed to match DataFrame index.\n",
      "  covid_cases_21.append(df[df['COVID-19 Deaths'] > 0][df['State']==i][df['State'] != 'United States'][df['Sex'] == 'All Sexes']\n",
      "C:\\Users\\yulia\\AppData\\Local\\Temp\\ipykernel_20160\\3433500608.py:43: UserWarning: Boolean Series key will be reindexed to match DataFrame index.\n",
      "  pneumonia_cases_21.append(df[df['Pneumonia Deaths'] > 0][df['State']==i][df['State'] != 'United States'][df['Sex'] == 'All Sexes']\n",
      "C:\\Users\\yulia\\AppData\\Local\\Temp\\ipykernel_20160\\3433500608.py:45: UserWarning: Boolean Series key will be reindexed to match DataFrame index.\n",
      "  influenza_cases_21.append(df[df['Influenza Deaths'] > 0][df['State']==i][df['State'] != 'United States'][df['Sex'] == 'All Sexes']\n"
     ]
    },
    {
     "name": "stdout",
     "output_type": "stream",
     "text": [
      "Hasil untuk kasus 2021\n",
      "Jumlah kasus Covid-19\n",
      "{('Alabama', 9715), ('Maryland', 6091), ('Nevada', 5642), ('Indiana', 10050)}\n",
      "Jumlah kasus Pneumonia\n",
      "{('Alabama', 6353), ('Nevada', 5928), ('Maryland', 5693), ('Indiana', 9498)}\n",
      "Jumlah kasus Influenza\n",
      "{('Maryland', 11), ('Alabama', 36), ('Indiana', 23), ('Nevada', 0)}\n"
     ]
    },
    {
     "name": "stderr",
     "output_type": "stream",
     "text": [
      "C:\\Users\\yulia\\AppData\\Local\\Temp\\ipykernel_20160\\3433500608.py:72: UserWarning: Boolean Series key will be reindexed to match DataFrame index.\n",
      "  covid_cases_22.append(df[df['COVID-19 Deaths'] > 0][df['State']==i][df['State'] != 'United States'][df['Sex'] == 'All Sexes']\n",
      "C:\\Users\\yulia\\AppData\\Local\\Temp\\ipykernel_20160\\3433500608.py:74: UserWarning: Boolean Series key will be reindexed to match DataFrame index.\n",
      "  pneumonia_cases_22.append(df[df['Pneumonia Deaths'] > 0][df['State']==i][df['State'] != 'United States'][df['Sex'] == 'All Sexes']\n",
      "C:\\Users\\yulia\\AppData\\Local\\Temp\\ipykernel_20160\\3433500608.py:76: UserWarning: Boolean Series key will be reindexed to match DataFrame index.\n",
      "  influenza_cases_22.append(df[df['Influenza Deaths'] > 0][df['State']==i][df['State'] != 'United States'][df['Sex'] == 'All Sexes']\n"
     ]
    },
    {
     "name": "stdout",
     "output_type": "stream",
     "text": [
      "Hasil untuk kasus 2022\n",
      "Jumlah kasus Covid-19\n",
      "{('Nevada', 1847), ('Alabama', 2909), ('Indiana', 3908), ('Maryland', 2668)}\n",
      "Jumlah kasus Pneumonia\n",
      "{('Nevada', 1877), ('Indiana', 3241), ('Alabama', 1838), ('Maryland', 2094)}\n",
      "Jumlah kasus Influenza\n",
      "{('Maryland', 20), ('Alabama', 24), ('Nevada', 0), ('Indiana', 47)}\n"
     ]
    }
   ],
   "source": [
    "#2a Menampilkan visualisasi kasu covid,pneumonia dan influenza untuk 2 tahun terakhir\n",
    "#Memfilter kasus covid,pneumonia dan influenza pada tahun 2020(difiter secara terpisah)\n",
    "unique_states = ['Alabama','Indiana','Nevada','Maryland']\n",
    "covid_cases = []\n",
    "pneumonia_cases = []\n",
    "influenza_cases = []\n",
    "\n",
    "for i in unique_states:\n",
    "    covid_cases.append(df[df['COVID-19 Deaths'] > 0][df['State']==i][df['State'] != 'United States'][df['Sex'] == 'All Sexes']\n",
    "                       [df['Age Group'] == 'All Ages'][df['Group'] == 'By Year'][df['Year']==2020].loc[:,'COVID-19 Deaths'].sum())\n",
    "    pneumonia_cases.append(df[df['Pneumonia Deaths'] > 0][df['State']==i][df['State'] != 'United States'][df['Sex'] == 'All Sexes']\n",
    "                       [df['Age Group'] == 'All Ages'][df['Group'] == 'By Year'][df['Year']==2020].loc[:,'Pneumonia Deaths'].sum())\n",
    "    influenza_cases.append(df[df['Influenza Deaths'] > 0][df['State']==i][df['State'] != 'United States'][df['Sex'] == 'All Sexes']\n",
    "                       [df['Age Group'] == 'All Ages'][df['Group'] == 'By Year'][df['Year']==2020].loc[:,'Influenza Deaths'].sum())\n",
    "\n",
    "covid_cases = [int(i) for i in covid_cases]\n",
    "pneumonia_cases = [int(i) for i in pneumonia_cases]\n",
    "influenza_cases = [int(i) for i in influenza_cases]\n",
    "\n",
    "print(\"Hasil untuk kasus 2020\")\n",
    "#Kasus Covid\n",
    "print(\"Jumlah kasus Covid-19\")\n",
    "print(set(zip(unique_states,covid_cases)))\n",
    "\n",
    "#Kasus Pneumonia\n",
    "print(\"Jumlah kasus Pneumonia\")\n",
    "print(set(zip(unique_states,pneumonia_cases)))\n",
    "\n",
    "#Kasus Influenza\n",
    "print(\"Jumlah kasus Influenza\")\n",
    "print(set(zip(unique_states,influenza_cases)))\n",
    "\n",
    "\n",
    "print(\"==================================\")\n",
    "\n",
    "#Memfilter kasus covid,pneumonia dan influenza pada tahun 2021\n",
    "covid_cases_21 = []\n",
    "pneumonia_cases_21 = []\n",
    "influenza_cases_21 = []\n",
    "for i in unique_states:\n",
    "    covid_cases_21.append(df[df['COVID-19 Deaths'] > 0][df['State']==i][df['State'] != 'United States'][df['Sex'] == 'All Sexes']\n",
    "                       [df['Age Group'] == 'All Ages'][df['Group'] == 'By Year'][df['Year']==2021].loc[:,'COVID-19 Deaths'].sum())\n",
    "    pneumonia_cases_21.append(df[df['Pneumonia Deaths'] > 0][df['State']==i][df['State'] != 'United States'][df['Sex'] == 'All Sexes']\n",
    "                       [df['Age Group'] == 'All Ages'][df['Group'] == 'By Year'][df['Year']==2021].loc[:,'Pneumonia Deaths'].sum())\n",
    "    influenza_cases_21.append(df[df['Influenza Deaths'] > 0][df['State']==i][df['State'] != 'United States'][df['Sex'] == 'All Sexes']\n",
    "                       [df['Age Group'] == 'All Ages'][df['Group'] == 'By Year'][df['Year']==2021].loc[:,'Influenza Deaths'].sum())\n",
    "    \n",
    "covid_cases_21 = [int(i) for i in covid_cases_21] \n",
    "pneumonia_cases_21 = [int(i) for i in pneumonia_cases_21]\n",
    "influenza_cases_21 = [int(i) for i in influenza_cases_21]\n",
    "\n",
    "#Hasil untuk kasus 2021\n",
    "#Kasus Covid 19\n",
    "print(\"Hasil untuk kasus 2021\")\n",
    "print(\"Jumlah kasus Covid-19\")\n",
    "print(set(zip(unique_states,covid_cases_21)))\n",
    "\n",
    "#Kasus Pneumonia\n",
    "print(\"Jumlah kasus Pneumonia\")\n",
    "print(set(zip(unique_states,pneumonia_cases_21)))\n",
    "\n",
    "#Kasus Influenza\n",
    "print(\"Jumlah kasus Influenza\")\n",
    "print(set(zip(unique_states,influenza_cases_21)))\n",
    "\n",
    "\n",
    "#Memfilter kasus covid,pneumonia,influenza pada tahun 2022\n",
    "covid_cases_22 = []\n",
    "pneumonia_cases_22 = []\n",
    "influenza_cases_22 = []\n",
    "for i in unique_states:\n",
    "    covid_cases_22.append(df[df['COVID-19 Deaths'] > 0][df['State']==i][df['State'] != 'United States'][df['Sex'] == 'All Sexes']\n",
    "                       [df['Age Group'] == 'All Ages'][df['Group'] == 'By Year'][df['Year']==2022].loc[:,'COVID-19 Deaths'].sum())\n",
    "    pneumonia_cases_22.append(df[df['Pneumonia Deaths'] > 0][df['State']==i][df['State'] != 'United States'][df['Sex'] == 'All Sexes']\n",
    "                       [df['Age Group'] == 'All Ages'][df['Group'] == 'By Year'][df['Year']==2022].loc[:,'Pneumonia Deaths'].sum())\n",
    "    influenza_cases_22.append(df[df['Influenza Deaths'] > 0][df['State']==i][df['State'] != 'United States'][df['Sex'] == 'All Sexes']\n",
    "                       [df['Age Group'] == 'All Ages'][df['Group'] == 'By Year'][df['Year']==2022].loc[:,'Influenza Deaths'].sum())\n",
    "\n",
    "covid_cases_22 = [int(i) for i in covid_cases_22]\n",
    "pneumonia_cases_22 = [int(i) for i in pneumonia_cases_22]\n",
    "influenza_cases_22 = [int(i) for i in influenza_cases_22]\n",
    "\n",
    "#Kasus Covid 19\n",
    "print(\"Hasil untuk kasus 2022\")\n",
    "print(\"Jumlah kasus Covid-19\")\n",
    "print(set(zip(unique_states,covid_cases_22)))\n",
    "\n",
    "#Kasus Pneumonia\n",
    "print(\"Jumlah kasus Pneumonia\")\n",
    "print(set(zip(unique_states,pneumonia_cases_22)))\n",
    "\n",
    "#Kasus Influenza\n",
    "print(\"Jumlah kasus Influenza\")\n",
    "print(set(zip(unique_states,influenza_cases_22)))"
   ]
  },
  {
   "cell_type": "code",
   "execution_count": 8,
   "id": "8c56028d",
   "metadata": {},
   "outputs": [
    {
     "name": "stderr",
     "output_type": "stream",
     "text": [
      "C:\\Users\\yulia\\AppData\\Local\\Temp\\ipykernel_20160\\832920724.py:9: UserWarning: Boolean Series key will be reindexed to match DataFrame index.\n",
      "  covid_cases_total.append(df[df['COVID-19 Deaths'] > 0][df['State']==i][df['State'] != 'United States'][df['Sex'] == 'All Sexes']\n",
      "C:\\Users\\yulia\\AppData\\Local\\Temp\\ipykernel_20160\\832920724.py:11: UserWarning: Boolean Series key will be reindexed to match DataFrame index.\n",
      "  pneumonia_cases_total.append(df[df['Pneumonia Deaths'] > 0][df['State']==i][df['State'] != 'United States'][df['Sex'] == 'All Sexes']\n",
      "C:\\Users\\yulia\\AppData\\Local\\Temp\\ipykernel_20160\\832920724.py:13: UserWarning: Boolean Series key will be reindexed to match DataFrame index.\n",
      "  influenza_cases_total.append(df[df['Influenza Deaths'] > 0][df['State']==i][df['State'] != 'United States'][df['Sex'] == 'All Sexes']\n"
     ]
    },
    {
     "name": "stdout",
     "output_type": "stream",
     "text": [
      "Hasil data covid,pneumonia dan influenza dari tahun 2020-2022\n",
      "Jumlah kasus Covid-19\n",
      "{('Nevada', 11016), ('Alabama', 19330), ('Indiana', 23733), ('Maryland', 15488)}\n",
      "\n",
      "\n",
      "Jumlah kasus Pneumonia\n",
      "{('Maryland', 13643), ('Nevada', 12159), ('Indiana', 21641), ('Alabama', 13404)}\n",
      "\n",
      "\n",
      "Jumlah kasus Influenza\n",
      "{('Maryland', 182), ('Indiana', 248), ('Alabama', 200), ('Nevada', 74)}\n"
     ]
    }
   ],
   "source": [
    "#2b Menampilkan visualisasi kasu covid,pneumonia dan influenza untuk total keseluruhan dari tahun 2020-2022\n",
    "#'Alabama','Indiana','Nevada','Maryland'\n",
    "#memfilter kasus covid,pneumonia dan influenza berdasarkan state untuk 2020-2022\n",
    "\n",
    "covid_cases_total = []\n",
    "pneumonia_cases_total = []\n",
    "influenza_cases_total = []\n",
    "for i in unique_states:\n",
    "    covid_cases_total.append(df[df['COVID-19 Deaths'] > 0][df['State']==i][df['State'] != 'United States'][df['Sex'] == 'All Sexes']\n",
    "                       [df['Age Group'] == 'All Ages'][df['Group'] == 'By Total'].loc[:,'COVID-19 Deaths'].sum())\n",
    "    pneumonia_cases_total.append(df[df['Pneumonia Deaths'] > 0][df['State']==i][df['State'] != 'United States'][df['Sex'] == 'All Sexes']\n",
    "                       [df['Age Group'] == 'All Ages'][df['Group'] == 'By Total'].loc[:,'Pneumonia Deaths'].sum())\n",
    "    influenza_cases_total.append(df[df['Influenza Deaths'] > 0][df['State']==i][df['State'] != 'United States'][df['Sex'] == 'All Sexes']\n",
    "                       [df['Age Group'] == 'All Ages'][df['Group'] == 'By Total'].loc[:,'Influenza Deaths'].sum())\n",
    "\n",
    "covid_cases_total = [int(i) for i in covid_cases_total]\n",
    "pneumonia_cases_total = [int(i) for i in pneumonia_cases_total]\n",
    "influenza_cases_total = [int(i) for i in influenza_cases_total]\n",
    "\n",
    "#Kasus Covid 19\n",
    "print(\"Hasil data covid,pneumonia dan influenza dari tahun 2020-2022\")\n",
    "print(\"Jumlah kasus Covid-19\")\n",
    "print(set(zip(unique_states,covid_cases_total)))\n",
    "\n",
    "print(\"\\n\")\n",
    "\n",
    "#Kasus Pneumonia\n",
    "print(\"Jumlah kasus Pneumonia\")\n",
    "print(set(zip(unique_states,pneumonia_cases_total)))\n",
    "\n",
    "print(\"\\n\")\n",
    "\n",
    "#Kasus Influenza\n",
    "print(\"Jumlah kasus Influenza\")\n",
    "print(set(zip(unique_states,influenza_cases_total)))"
   ]
  },
  {
   "cell_type": "code",
   "execution_count": 9,
   "id": "967d7c17",
   "metadata": {},
   "outputs": [
    {
     "data": {
      "image/png": "[encoded data removed]",
      "text/plain": [
       "<Figure size 1080x936 with 4 Axes>"
      ]
     },
     "metadata": {
      "needs_background": "light"
     },
     "output_type": "display_data"
    }
   ],
   "source": [
    "#2c Menampilkan visualisasi kasus covid,pneumonia menggunakan grafik batang\n",
    "#N untuk x label\n",
    "N = 4\n",
    "ind = np.arange(N) \n",
    "width = 0.25\n",
    "\n",
    "#menentukan ukuran baris dan kolom\n",
    "fig,ax = plt.subplots(nrows=2, ncols=2, figsize=(15,13))\n",
    "\n",
    "#Untuk tahun 2020\n",
    "bar1 = ax[0,0].bar(ind,covid_cases,width,color='r')\n",
    "bar2 = ax[0,0].bar(ind+width,pneumonia_cases,width,color='g')\n",
    "bar3 = ax[0,0].bar(ind+width*2,influenza_cases,width,color='b')\n",
    "\n",
    "ax[0,0].set_xlabel('State')\n",
    "ax[0,0].set_ylabel('Number of cases')\n",
    "ax[0,0].set_xticks(ind+width,unique_states)\n",
    "ax[0,0].title.set_text('Tahun 2020')\n",
    "ax[0,0].legend((bar1,bar2,bar3),('Covid','Pneumonia','Influenza'))\n",
    "\n",
    "#untuk tahun 2021\n",
    "bar4 = ax[0,1].bar(ind,covid_cases_21,width,color='r')\n",
    "bar5 = ax[0,1].bar(ind+width,pneumonia_cases_21,width,color=\"g\")\n",
    "bar6 = ax[0,1].bar(ind+width*2,influenza_cases_21,width,color='b')\n",
    "\n",
    "ax[0,1].set_xlabel('State')\n",
    "ax[0,1].set_ylabel('Number of cases')\n",
    "ax[0,1].set_xticks(ind+width,unique_states)\n",
    "ax[0,1].title.set_text('Tahun 2021')\n",
    "ax[0,1].legend((bar4,bar5,bar6),('Covid','Pneumonia','Influenza'))\n",
    "\n",
    "#untuk tahun 2022\n",
    "bar7 = ax[1,0].bar(ind,covid_cases_22,width,color='r')\n",
    "bar8 = ax[1,0].bar(ind+width,pneumonia_cases_22,width,color='g')\n",
    "bar9 = ax[1,0].bar(ind+width*2,influenza_cases_22,width,color='b')\n",
    "\n",
    "ax[1,0].set_xlabel('State')\n",
    "ax[1,0].set_ylabel('Number of cases')\n",
    "ax[1,0].set_xticks(ind+width,unique_states)\n",
    "ax[1,0].title.set_text('Tahun 2022')\n",
    "ax[1,0].legend((bar7,bar8,bar9),('Covid','Pneumonia','Influenza'))\n",
    "\n",
    "#Data hasil untuk 2020-2021\n",
    "bar10 = ax[1,1].bar(ind,covid_cases_total,width,color='r')\n",
    "bar11 = ax[1,1].bar(ind+width,pneumonia_cases_total,width,color='g')\n",
    "bar12 = ax[1,1].bar(ind+width*2,influenza_cases_total,width,color='b')\n",
    "\n",
    "ax[1,1].set_xlabel('State')\n",
    "ax[1,1].set_ylabel('Number of cases')\n",
    "ax[1,1].set_xticks(ind+width,unique_states)\n",
    "ax[1,1].title.set_text('Data covid-19,Pneumonia,Influenza Pada Tahun 2020-2022')\n",
    "ax[1,1].legend((bar10,bar11,bar12),('Covid','Pneumonia','Influenza'))\n",
    "\n",
    "plt.show()"
   ]
  },
  {
   "cell_type": "code",
   "execution_count": 10,
   "id": "47b89d7a",
   "metadata": {},
   "outputs": [
    {
     "data": {
      "image/png": "[encoded data removed]",
      "text/plain": [
       "<Figure size 432x288 with 1 Axes>"
      ]
     },
     "metadata": {},
     "output_type": "display_data"
    }
   ],
   "source": [
    "#3 Menampilkan data gender yang meninggal terkena covid-19 di united States\n",
    "#menampilkan grafik pie chart\n",
    "gender_labels = ['Male','Female']\n",
    "total_cases = [553049,445649]\n",
    "\n",
    "my_colors = ['#3e64ef','#ea2a2a']\n",
    "my_explode = (0, 0)\n",
    "plt.pie(total_cases, labels=gender_labels, autopct='%1.1f%%', startangle=15, shadow = True, colors=my_colors, explode=my_explode)\n",
    "plt.title('Data Kasus Kematian Covid-19 berdasarkan gender di US')\n",
    "plt.axis('equal')\n",
    "plt.legend()\n",
    "plt.show()"
   ]
  },
  {
   "cell_type": "code",
   "execution_count": 11,
   "id": "0f5f3f21",
   "metadata": {},
   "outputs": [
    {
     "name": "stderr",
     "output_type": "stream",
     "text": [
      "C:\\Users\\yulia\\AppData\\Local\\Temp\\ipykernel_20160\\998968439.py:3: UserWarning: Boolean Series key will be reindexed to match DataFrame index.\n",
      "  unique_ages = df[df['COVID-19 Deaths'] > 0][df['State'] != 'United States'][df['Age Group'] != 'All Ages']['Age Group'].unique()\n"
     ]
    }
   ],
   "source": [
    "#4 menampilkan data gender dan usia yang meninggal karena covid-19 untuk 2 tahun terakhir di united states\n",
    "#memfilter data usia tanpa memasukkan all ages\n",
    "unique_ages = df[df['COVID-19 Deaths'] > 0][df['State'] != 'United States'][df['Age Group'] != 'All Ages']['Age Group'].unique()"
   ]
  },
  {
   "cell_type": "code",
   "execution_count": 12,
   "id": "f221a03c",
   "metadata": {},
   "outputs": [
    {
     "name": "stdout",
     "output_type": "stream",
     "text": [
      "['0-17 years' '15-24 years' '18-29 years' '25-34 years' '30-39 years'\n",
      " '35-44 years' '40-49 years' '45-54 years' '50-64 years' '55-64 years'\n",
      " '65-74 years' '75-84 years' '85 years and over' '5-14 years'\n",
      " 'Under 1 year' '1-4 years']\n"
     ]
    }
   ],
   "source": [
    "#4 menampilkan data gender dan usia yang meninggal karena covid-19\n",
    "print(unique_ages)"
   ]
  },
  {
   "cell_type": "code",
   "execution_count": 13,
   "id": "e8f55346",
   "metadata": {},
   "outputs": [
    {
     "name": "stderr",
     "output_type": "stream",
     "text": [
      "C:\\Users\\yulia\\AppData\\Local\\Temp\\ipykernel_20160\\2692495768.py:6: UserWarning: Boolean Series key will be reindexed to match DataFrame index.\n",
      "  total_male.append(df[df['COVID-19 Deaths'] > 0][df['Age Group']==i][df['State'] == 'United States'][df['Sex'] == 'Male']\n",
      "C:\\Users\\yulia\\AppData\\Local\\Temp\\ipykernel_20160\\2692495768.py:8: UserWarning: Boolean Series key will be reindexed to match DataFrame index.\n",
      "  total_female.append(df[df['COVID-19 Deaths'] > 0][df['Age Group']==i][df['State'] == 'United States'][df['Sex'] == 'Female']\n"
     ]
    },
    {
     "name": "stdout",
     "output_type": "stream",
     "text": [
      "Male\n",
      "{('18-29 years', 3814), ('75-84 years', 144726), ('55-64 years', 90650), ('Under 1 year', 146), ('40-49 years', 27046), ('45-54 years', 42672), ('1-4 years', 68), ('0-17 years', 551), ('35-44 years', 17219), ('25-34 years', 6853), ('65-74 years', 136604), ('15-24 years', 1560), ('85 years and over', 112378), ('30-39 years', 11257), ('5-14 years', 173), ('50-64 years', 116673)}\n",
      "Female\n",
      "{('50-64 years', 70599), ('15-24 years', 1083), ('75-84 years', 112827), ('35-44 years', 10474), ('40-49 years', 15915), ('45-54 years', 23879), ('30-39 years', 6891), ('0-17 years', 494), ('55-64 years', 56235), ('25-34 years', 4311), ('Under 1 year', 129), ('18-29 years', 2443), ('1-4 years', 70), ('5-14 years', 161), ('85 years and over', 143402), ('65-74 years', 93078)}\n"
     ]
    }
   ],
   "source": [
    "#4 menampilkan data gender dan usia yang meninggal karena covid-19\n",
    "#mencari jumlah total male dan female di united states\n",
    "total_male = []\n",
    "total_female = []\n",
    "for i in unique_ages:\n",
    "    total_male.append(df[df['COVID-19 Deaths'] > 0][df['Age Group']==i][df['State'] == 'United States'][df['Sex'] == 'Male']\n",
    "                       [df['Age Group'] != 'All Ages'][df['Group'] == 'By Total'].loc[:,'COVID-19 Deaths'].sum())\n",
    "    total_female.append(df[df['COVID-19 Deaths'] > 0][df['Age Group']==i][df['State'] == 'United States'][df['Sex'] == 'Female']\n",
    "                       [df['Age Group'] != 'All Ages'][df['Group'] == 'By Total'].loc[:,'COVID-19 Deaths'].sum())\n",
    "\n",
    "total_male = [int(i) for i in total_male]\n",
    "total_female = [int(i) for i in total_female]\n",
    "\n",
    "#Data gender untuk male\n",
    "print(\"Male\")\n",
    "print(set(zip(unique_ages,total_male)))\n",
    "\n",
    "#Data gender untuk female\n",
    "print(\"Female\")\n",
    "print(set(zip(unique_ages,total_female)))     "
   ]
  },
  {
   "cell_type": "code",
   "execution_count": 14,
   "id": "1abff3d2",
   "metadata": {},
   "outputs": [
    {
     "data": {
      "image/png": "[encoded data removed]",
      "text/plain": [
       "<Figure size 1152x648 with 1 Axes>"
      ]
     },
     "metadata": {
      "needs_background": "light"
     },
     "output_type": "display_data"
    }
   ],
   "source": [
    "#4 menampilkan data gender dan usia yang meninggal karena covid-19\n",
    "#4a menampilkan data gender pria dan usianya yang meninggal karena covid-19\n",
    "fig, ax = plt.subplots(figsize=(16, 9))\n",
    "\n",
    "ax.barh(unique_ages,total_male)\n",
    "\n",
    "for i in ax.patches:\n",
    "    plt.text(i.get_width()+0.2, i.get_y()+0.5,\n",
    "             str(round((i.get_width()), 2)),\n",
    "             fontsize=10, fontweight='bold',\n",
    "             color='black')\n",
    "\n",
    "ax.set_xlabel('Number of deaths')\n",
    "ax.set_ylabel('Ages')\n",
    "  \n",
    "ax.title.set_text('Jumlah Kasus Gender Male yang meninggal karena Covid-19')\n",
    "plt.show()"
   ]
  },
  {
   "cell_type": "code",
   "execution_count": 15,
   "id": "9225c5b2",
   "metadata": {},
   "outputs": [
    {
     "data": {
      "image/png": "[encoded data removed]",
      "text/plain": [
       "<Figure size 1224x720 with 1 Axes>"
      ]
     },
     "metadata": {
      "needs_background": "light"
     },
     "output_type": "display_data"
    }
   ],
   "source": [
    "#4 menampilkan data gender dan usia yang meninggal karena covid-19\n",
    "#4b menampilkan data gender wanita dan usianya yang meninggal karena covid-19\n",
    "\n",
    "fig, ax = plt.subplots(figsize=(17, 10))\n",
    "\n",
    "ax.barh(unique_ages,total_female)\n",
    "\n",
    "for i in ax.patches:\n",
    "    plt.text(i.get_width()+0.2, i.get_y()+0.5,\n",
    "             str(round((i.get_width()), 2)),\n",
    "             fontsize=10, fontweight='bold',\n",
    "             color='black')\n",
    "\n",
    "ax.set_xlabel('Number of deaths')\n",
    "ax.set_ylabel('Ages')\n",
    "  \n",
    "ax.title.set_text('Jumlah Kasus Gender Female yang meninggal karena Covid-19')\n",
    "plt.show()"
   ]
  },
  {
   "cell_type": "code",
   "execution_count": 16,
   "id": "5fe9e17e",
   "metadata": {},
   "outputs": [
    {
     "name": "stderr",
     "output_type": "stream",
     "text": [
      "C:\\Users\\yulia\\AppData\\Local\\Temp\\ipykernel_20160\\2446257394.py:7: UserWarning: Boolean Series key will be reindexed to match DataFrame index.\n",
      "  count_total_20.append(df[df['Pneumonia and COVID-19 Deaths'] > 0][df['Age Group']==i][df['State'] == 'United States'][df['Sex'] == 'All Sexes']\n",
      "C:\\Users\\yulia\\AppData\\Local\\Temp\\ipykernel_20160\\2446257394.py:9: UserWarning: Boolean Series key will be reindexed to match DataFrame index.\n",
      "  count_total_21.append(df[df['Pneumonia and COVID-19 Deaths'] > 0][df['Age Group']==i][df['State'] == 'United States'][df['Sex'] == 'All Sexes']\n",
      "C:\\Users\\yulia\\AppData\\Local\\Temp\\ipykernel_20160\\2446257394.py:11: UserWarning: Boolean Series key will be reindexed to match DataFrame index.\n",
      "  count_total_22.append(df[df['Pneumonia and COVID-19 Deaths'] > 0][df['Age Group']==i][df['State'] == 'United States'][df['Sex'] == 'All Sexes']\n"
     ]
    },
    {
     "name": "stdout",
     "output_type": "stream",
     "text": [
      "[42271, 51909, 49446]\n",
      "[66608, 62838, 45248]\n",
      "[19736, 21132, 16640]\n"
     ]
    }
   ],
   "source": [
    "#5 Menampilkan data usia lansia yang meninggal karena pneumonia dan covid-19 pada tahun 2020-2022\n",
    "count_total_20 = []\n",
    "count_total_21 = []\n",
    "count_total_22 = []\n",
    "unique_ages = ['65-74 years','75-84 years','85 years and over']\n",
    "for i in unique_ages:\n",
    "    count_total_20.append(df[df['Pneumonia and COVID-19 Deaths'] > 0][df['Age Group']==i][df['State'] == 'United States'][df['Sex'] == 'All Sexes']\n",
    "                       [df['Age Group'] != 'All Ages'][df['Group'] == 'By Year'][df['Year'] == 2020].loc[:,'Pneumonia and COVID-19 Deaths'].sum())\n",
    "    count_total_21.append(df[df['Pneumonia and COVID-19 Deaths'] > 0][df['Age Group']==i][df['State'] == 'United States'][df['Sex'] == 'All Sexes']\n",
    "                       [df['Age Group'] != 'All Ages'][df['Group'] == 'By Year'][df['Year'] == 2021].loc[:,'Pneumonia and COVID-19 Deaths'].sum())\n",
    "    count_total_22.append(df[df['Pneumonia and COVID-19 Deaths'] > 0][df['Age Group']==i][df['State'] == 'United States'][df['Sex'] == 'All Sexes']\n",
    "                       [df['Age Group'] != 'All Ages'][df['Group'] == 'By Year'][df['Year'] == 2022].loc[:,'Pneumonia and COVID-19 Deaths'].sum())\n",
    "\n",
    "count_total_20 = [int(i) for i in count_total_20]\n",
    "count_total_21 = [int(i) for i in count_total_21]\n",
    "count_total_22 = [int(i) for i in count_total_22]\n",
    "\n",
    "print(count_total_20)\n",
    "print(count_total_21)\n",
    "print(count_total_22)"
   ]
  },
  {
   "cell_type": "code",
   "execution_count": 17,
   "id": "689f9372",
   "metadata": {},
   "outputs": [
    {
     "data": {
      "image/png": "[encoded data removed]",
      "text/plain": [
       "<Figure size 432x288 with 1 Axes>"
      ]
     },
     "metadata": {},
     "output_type": "display_data"
    }
   ],
   "source": [
    "#5 Menampilkan data usia lansia yang meninggal karena pneumonia dan covid-19 pada tahun 2020-2022\n",
    "#Data lansia yang meninggal karena pneumonia dan covid-19 pada tahun 2020\n",
    "fig = plt.figure()\n",
    "ax = fig.add_axes([0,0,1,1])\n",
    "ax.axis('equal')\n",
    "\n",
    "ax.pie(count_total_20, labels = unique_ages,autopct='%1.2f%%')\n",
    "plt.title('Data kasus lansia pada tahun 2020')\n",
    "plt.legend(unique_ages,loc=3)\n",
    "plt.show()"
   ]
  },
  {
   "cell_type": "code",
   "execution_count": 18,
   "id": "171a064c",
   "metadata": {},
   "outputs": [
    {
     "data": {
      "image/png": "[encoded data removed]",
      "text/plain": [
       "<Figure size 432x288 with 1 Axes>"
      ]
     },
     "metadata": {},
     "output_type": "display_data"
    }
   ],
   "source": [
    "#5 Menampilkan data usia lansia yang meninggal karena pneumonia dan covid-19 pada tahun 2020-2022\n",
    "#Data lansia yang meninggal karena pneumonia dan covid-19 pada tahun 2021\n",
    "fig = plt.figure()\n",
    "ax = fig.add_axes([0,0,1,1])\n",
    "ax.axis('equal')\n",
    "\n",
    "ax.pie(count_total_21, labels = unique_ages,autopct='%1.2f%%')\n",
    "plt.title('Data kasus lansia pada tahun 2021')\n",
    "plt.legend(unique_ages,loc=3)\n",
    "plt.show()"
   ]
  },
  {
   "cell_type": "code",
   "execution_count": 19,
   "id": "1e82a82a",
   "metadata": {},
   "outputs": [
    {
     "data": {
      "image/png": "[encoded data removed]",
      "text/plain": [
       "<Figure size 432x288 with 1 Axes>"
      ]
     },
     "metadata": {},
     "output_type": "display_data"
    }
   ],
   "source": [
    "#5 Menampilkan data usia lansia yang meninggal karena pneumonia dan covid-19 pada tahun 2020-2022\n",
    "#Data lansia yang meninggal karena pneumonia dan covid-19 pada tahun 2022\n",
    "fig = plt.figure()\n",
    "ax = fig.add_axes([0,0,1,1])\n",
    "ax.axis('equal')\n",
    "\n",
    "ax.pie(count_total_22, labels = unique_ages,autopct='%1.2f%%')\n",
    "plt.title('Data kasus lansia pada tahun 2022')\n",
    "plt.legend(unique_ages,loc=3)\n",
    "plt.show()"
   ]
  },
  {
   "cell_type": "code",
   "execution_count": 20,
   "id": "ea414813",
   "metadata": {},
   "outputs": [
    {
     "data": {
      "text/html": [
       "<div>\n",
       "<style scoped>\n",
       "    .dataframe tbody tr th:only-of-type {\n",
       "        vertical-align: middle;\n",
       "    }\n",
       "\n",
       "    .dataframe tbody tr th {\n",
       "        vertical-align: top;\n",
       "    }\n",
       "\n",
       "    .dataframe thead th {\n",
       "        text-align: right;\n",
       "    }\n",
       "</style>\n",
       "<table border=\"1\" class=\"dataframe\">\n",
       "  <thead>\n",
       "    <tr style=\"text-align: right;\">\n",
       "      <th></th>\n",
       "      <th>dateRep</th>\n",
       "      <th>day</th>\n",
       "      <th>month</th>\n",
       "      <th>year</th>\n",
       "      <th>cases</th>\n",
       "      <th>deaths</th>\n",
       "      <th>countriesAndTerritories</th>\n",
       "      <th>geoId</th>\n",
       "      <th>countryterritoryCode</th>\n",
       "      <th>popData2020</th>\n",
       "      <th>continentExp</th>\n",
       "    </tr>\n",
       "  </thead>\n",
       "  <tbody>\n",
       "    <tr>\n",
       "      <th>0</th>\n",
       "      <td>09/05/2022</td>\n",
       "      <td>9</td>\n",
       "      <td>5</td>\n",
       "      <td>2022</td>\n",
       "      <td>4787.0</td>\n",
       "      <td>3.0</td>\n",
       "      <td>Austria</td>\n",
       "      <td>AT</td>\n",
       "      <td>AUT</td>\n",
       "      <td>8901064</td>\n",
       "      <td>Europe</td>\n",
       "    </tr>\n",
       "    <tr>\n",
       "      <th>1</th>\n",
       "      <td>08/05/2022</td>\n",
       "      <td>8</td>\n",
       "      <td>5</td>\n",
       "      <td>2022</td>\n",
       "      <td>3957.0</td>\n",
       "      <td>15.0</td>\n",
       "      <td>Austria</td>\n",
       "      <td>AT</td>\n",
       "      <td>AUT</td>\n",
       "      <td>8901064</td>\n",
       "      <td>Europe</td>\n",
       "    </tr>\n",
       "    <tr>\n",
       "      <th>2</th>\n",
       "      <td>07/05/2022</td>\n",
       "      <td>7</td>\n",
       "      <td>5</td>\n",
       "      <td>2022</td>\n",
       "      <td>3521.0</td>\n",
       "      <td>3.0</td>\n",
       "      <td>Austria</td>\n",
       "      <td>AT</td>\n",
       "      <td>AUT</td>\n",
       "      <td>8901064</td>\n",
       "      <td>Europe</td>\n",
       "    </tr>\n",
       "    <tr>\n",
       "      <th>3</th>\n",
       "      <td>06/05/2022</td>\n",
       "      <td>6</td>\n",
       "      <td>5</td>\n",
       "      <td>2022</td>\n",
       "      <td>5164.0</td>\n",
       "      <td>4.0</td>\n",
       "      <td>Austria</td>\n",
       "      <td>AT</td>\n",
       "      <td>AUT</td>\n",
       "      <td>8901064</td>\n",
       "      <td>Europe</td>\n",
       "    </tr>\n",
       "    <tr>\n",
       "      <th>4</th>\n",
       "      <td>05/05/2022</td>\n",
       "      <td>5</td>\n",
       "      <td>5</td>\n",
       "      <td>2022</td>\n",
       "      <td>6149.0</td>\n",
       "      <td>5.0</td>\n",
       "      <td>Austria</td>\n",
       "      <td>AT</td>\n",
       "      <td>AUT</td>\n",
       "      <td>8901064</td>\n",
       "      <td>Europe</td>\n",
       "    </tr>\n",
       "  </tbody>\n",
       "</table>\n",
       "</div>"
      ],
      "text/plain": [
       "      dateRep  day  month  year   cases  deaths countriesAndTerritories geoId  \\\n",
       "0  09/05/2022    9      5  2022  4787.0     3.0                 Austria    AT   \n",
       "1  08/05/2022    8      5  2022  3957.0    15.0                 Austria    AT   \n",
       "2  07/05/2022    7      5  2022  3521.0     3.0                 Austria    AT   \n",
       "3  06/05/2022    6      5  2022  5164.0     4.0                 Austria    AT   \n",
       "4  05/05/2022    5      5  2022  6149.0     5.0                 Austria    AT   \n",
       "\n",
       "  countryterritoryCode  popData2020 continentExp  \n",
       "0                  AUT      8901064       Europe  \n",
       "1                  AUT      8901064       Europe  \n",
       "2                  AUT      8901064       Europe  \n",
       "3                  AUT      8901064       Europe  \n",
       "4                  AUT      8901064       Europe  "
      ]
     },
     "execution_count": 20,
     "metadata": {},
     "output_type": "execute_result"
    }
   ],
   "source": [
    "# Melakukan cluster berdasarkan jumlah kasus dan kematian di eropa\n",
    "df = pd.read_csv('data_eropa.csv')\n",
    "df.head()"
   ]
  },
  {
   "cell_type": "code",
   "execution_count": 21,
   "id": "34858233",
   "metadata": {},
   "outputs": [
    {
     "name": "stdout",
     "output_type": "stream",
     "text": [
      "<class 'pandas.core.frame.DataFrame'>\n",
      "RangeIndex: 23427 entries, 0 to 23426\n",
      "Data columns (total 11 columns):\n",
      " #   Column                   Non-Null Count  Dtype  \n",
      "---  ------                   --------------  -----  \n",
      " 0   dateRep                  23427 non-null  object \n",
      " 1   day                      23427 non-null  int64  \n",
      " 2   month                    23427 non-null  int64  \n",
      " 3   year                     23427 non-null  int64  \n",
      " 4   cases                    23374 non-null  float64\n",
      " 5   deaths                   23150 non-null  float64\n",
      " 6   countriesAndTerritories  23427 non-null  object \n",
      " 7   geoId                    23427 non-null  object \n",
      " 8   countryterritoryCode     23427 non-null  object \n",
      " 9   popData2020              23427 non-null  int64  \n",
      " 10  continentExp             23427 non-null  object \n",
      "dtypes: float64(2), int64(4), object(5)\n",
      "memory usage: 2.0+ MB\n"
     ]
    }
   ],
   "source": [
    "df.info()"
   ]
  },
  {
   "cell_type": "code",
   "execution_count": 22,
   "id": "2bb6a05e",
   "metadata": {},
   "outputs": [
    {
     "name": "stdout",
     "output_type": "stream",
     "text": [
      "<class 'pandas.core.frame.DataFrame'>\n",
      "RangeIndex: 23427 entries, 0 to 23426\n",
      "Data columns (total 11 columns):\n",
      " #   Column                   Non-Null Count  Dtype \n",
      "---  ------                   --------------  ----- \n",
      " 0   dateRep                  23427 non-null  object\n",
      " 1   day                      23427 non-null  int64 \n",
      " 2   month                    23427 non-null  int64 \n",
      " 3   year                     23427 non-null  int64 \n",
      " 4   cases                    23427 non-null  int64 \n",
      " 5   deaths                   23427 non-null  int64 \n",
      " 6   countriesAndTerritories  23427 non-null  object\n",
      " 7   geoId                    23427 non-null  object\n",
      " 8   countryterritoryCode     23427 non-null  object\n",
      " 9   popData2020              23427 non-null  int64 \n",
      " 10  continentExp             23427 non-null  object\n",
      "dtypes: int64(6), object(5)\n",
      "memory usage: 2.0+ MB\n"
     ]
    }
   ],
   "source": [
    "#mengubah tipe data kolum cases dan deaths menjadi tipe int\n",
    "df['cases'] = df['cases'].fillna(0)\n",
    "df['cases'] = df['cases'].astype(dtype='int64')\n",
    "\n",
    "df['deaths'] = df['deaths'].fillna(0)\n",
    "df['deaths'] = df['deaths'].astype(dtype='int64')\n",
    "df.info()"
   ]
  },
  {
   "cell_type": "code",
   "execution_count": 23,
   "id": "9a798cf6",
   "metadata": {},
   "outputs": [
    {
     "data": {
      "text/plain": [
       "<function matplotlib.pyplot.show(close=None, block=None)>"
      ]
     },
     "execution_count": 23,
     "metadata": {},
     "output_type": "execute_result"
    },
    {
     "data": {
      "image/png": "[encoded data removed]",
      "text/plain": [
       "<Figure size 432x288 with 1 Axes>"
      ]
     },
     "metadata": {
      "needs_background": "light"
     },
     "output_type": "display_data"
    }
   ],
   "source": [
    "#mencari nilai k yang optimal dengan menggunakan metode elbow\n",
    "kluster = []\n",
    "for i in range(1,11):\n",
    "    km = KMeans(n_clusters=i)\n",
    "    km.fit(df[['cases','deaths']])\n",
    "    kluster.append(km.inertia_)\n",
    "\n",
    "plt.xlabel('K number')\n",
    "plt.ylabel('Elbow')\n",
    "plt.plot(range(1,11),kluster)\n",
    "plt.show"
   ]
  },
  {
   "cell_type": "code",
   "execution_count": 24,
   "id": "81cebaf3",
   "metadata": {},
   "outputs": [
    {
     "data": {
      "text/plain": [
       "<matplotlib.collections.PathCollection at 0x27129a1ebc0>"
      ]
     },
     "execution_count": 24,
     "metadata": {},
     "output_type": "execute_result"
    },
    {
     "data": {
      "image/png": "[encoded data removed]",
      "text/plain": [
       "<Figure size 432x288 with 1 Axes>"
      ]
     },
     "metadata": {
      "needs_background": "light"
     },
     "output_type": "display_data"
    }
   ],
   "source": [
    "#memvisualisasi data cases dan deaths menggunakan scatter\n",
    "plt.scatter(df['cases'],df['deaths'])"
   ]
  },
  {
   "cell_type": "code",
   "execution_count": 25,
   "id": "30630792",
   "metadata": {},
   "outputs": [
    {
     "data": {
      "text/plain": [
       "array([0, 0, 0, ..., 0, 0, 0])"
      ]
     },
     "execution_count": 25,
     "metadata": {},
     "output_type": "execute_result"
    }
   ],
   "source": [
    "km = KMeans(n_clusters=3)\n",
    "y_predicted = km.fit_predict(df[['cases','deaths']])\n",
    "df['cluster'] = y_predicted\n",
    "y_predicted"
   ]
  },
  {
   "cell_type": "code",
   "execution_count": 26,
   "id": "e4ef6f29",
   "metadata": {},
   "outputs": [
    {
     "data": {
      "text/html": [
       "<div>\n",
       "<style scoped>\n",
       "    .dataframe tbody tr th:only-of-type {\n",
       "        vertical-align: middle;\n",
       "    }\n",
       "\n",
       "    .dataframe tbody tr th {\n",
       "        vertical-align: top;\n",
       "    }\n",
       "\n",
       "    .dataframe thead th {\n",
       "        text-align: right;\n",
       "    }\n",
       "</style>\n",
       "<table border=\"1\" class=\"dataframe\">\n",
       "  <thead>\n",
       "    <tr style=\"text-align: right;\">\n",
       "      <th></th>\n",
       "      <th>dateRep</th>\n",
       "      <th>day</th>\n",
       "      <th>month</th>\n",
       "      <th>year</th>\n",
       "      <th>cases</th>\n",
       "      <th>deaths</th>\n",
       "      <th>countriesAndTerritories</th>\n",
       "      <th>geoId</th>\n",
       "      <th>countryterritoryCode</th>\n",
       "      <th>popData2020</th>\n",
       "      <th>continentExp</th>\n",
       "      <th>cluster</th>\n",
       "    </tr>\n",
       "  </thead>\n",
       "  <tbody>\n",
       "    <tr>\n",
       "      <th>0</th>\n",
       "      <td>09/05/2022</td>\n",
       "      <td>9</td>\n",
       "      <td>5</td>\n",
       "      <td>2022</td>\n",
       "      <td>4787</td>\n",
       "      <td>3</td>\n",
       "      <td>Austria</td>\n",
       "      <td>AT</td>\n",
       "      <td>AUT</td>\n",
       "      <td>8901064</td>\n",
       "      <td>Europe</td>\n",
       "      <td>0</td>\n",
       "    </tr>\n",
       "    <tr>\n",
       "      <th>1</th>\n",
       "      <td>08/05/2022</td>\n",
       "      <td>8</td>\n",
       "      <td>5</td>\n",
       "      <td>2022</td>\n",
       "      <td>3957</td>\n",
       "      <td>15</td>\n",
       "      <td>Austria</td>\n",
       "      <td>AT</td>\n",
       "      <td>AUT</td>\n",
       "      <td>8901064</td>\n",
       "      <td>Europe</td>\n",
       "      <td>0</td>\n",
       "    </tr>\n",
       "    <tr>\n",
       "      <th>2</th>\n",
       "      <td>07/05/2022</td>\n",
       "      <td>7</td>\n",
       "      <td>5</td>\n",
       "      <td>2022</td>\n",
       "      <td>3521</td>\n",
       "      <td>3</td>\n",
       "      <td>Austria</td>\n",
       "      <td>AT</td>\n",
       "      <td>AUT</td>\n",
       "      <td>8901064</td>\n",
       "      <td>Europe</td>\n",
       "      <td>0</td>\n",
       "    </tr>\n",
       "    <tr>\n",
       "      <th>3</th>\n",
       "      <td>06/05/2022</td>\n",
       "      <td>6</td>\n",
       "      <td>5</td>\n",
       "      <td>2022</td>\n",
       "      <td>5164</td>\n",
       "      <td>4</td>\n",
       "      <td>Austria</td>\n",
       "      <td>AT</td>\n",
       "      <td>AUT</td>\n",
       "      <td>8901064</td>\n",
       "      <td>Europe</td>\n",
       "      <td>0</td>\n",
       "    </tr>\n",
       "    <tr>\n",
       "      <th>4</th>\n",
       "      <td>05/05/2022</td>\n",
       "      <td>5</td>\n",
       "      <td>5</td>\n",
       "      <td>2022</td>\n",
       "      <td>6149</td>\n",
       "      <td>5</td>\n",
       "      <td>Austria</td>\n",
       "      <td>AT</td>\n",
       "      <td>AUT</td>\n",
       "      <td>8901064</td>\n",
       "      <td>Europe</td>\n",
       "      <td>0</td>\n",
       "    </tr>\n",
       "  </tbody>\n",
       "</table>\n",
       "</div>"
      ],
      "text/plain": [
       "      dateRep  day  month  year  cases  deaths countriesAndTerritories geoId  \\\n",
       "0  09/05/2022    9      5  2022   4787       3                 Austria    AT   \n",
       "1  08/05/2022    8      5  2022   3957      15                 Austria    AT   \n",
       "2  07/05/2022    7      5  2022   3521       3                 Austria    AT   \n",
       "3  06/05/2022    6      5  2022   5164       4                 Austria    AT   \n",
       "4  05/05/2022    5      5  2022   6149       5                 Austria    AT   \n",
       "\n",
       "  countryterritoryCode  popData2020 continentExp  cluster  \n",
       "0                  AUT      8901064       Europe        0  \n",
       "1                  AUT      8901064       Europe        0  \n",
       "2                  AUT      8901064       Europe        0  \n",
       "3                  AUT      8901064       Europe        0  \n",
       "4                  AUT      8901064       Europe        0  "
      ]
     },
     "execution_count": 26,
     "metadata": {},
     "output_type": "execute_result"
    }
   ],
   "source": [
    "df.head()"
   ]
  },
  {
   "cell_type": "code",
   "execution_count": 27,
   "id": "de098061",
   "metadata": {},
   "outputs": [
    {
     "data": {
      "text/plain": [
       "<matplotlib.legend.Legend at 0x271293223b0>"
      ]
     },
     "execution_count": 27,
     "metadata": {},
     "output_type": "execute_result"
    },
    {
     "data": {
      "image/png": "[encoded data removed]",
      "text/plain": [
       "<Figure size 432x288 with 1 Axes>"
      ]
     },
     "metadata": {
      "needs_background": "light"
     },
     "output_type": "display_data"
    }
   ],
   "source": [
    "#menampilan visualisasi cluster beserta centroidnya\n",
    "df1 = df[df.cluster ==0]\n",
    "df2 = df[df.cluster ==1]\n",
    "df3 = df[df.cluster ==2]\n",
    "\n",
    "plt.scatter(df1.cases,df1['deaths'],color=\"green\")\n",
    "plt.scatter(df2.cases,df2['deaths'],color=\"blue\")\n",
    "plt.scatter(df3.cases,df3['deaths'],color=\"red\")\n",
    "\n",
    "plt.scatter(km.cluster_centers_[:,0],km.cluster_centers_[:,1],color='purple',marker='*',label='centroid')\n",
    "\n",
    "plt.xlabel('cases')\n",
    "plt.ylabel('deaths')\n",
    "plt.legend()"
   ]
  },
  {
   "cell_type": "code",
   "execution_count": 28,
   "id": "3b2f634c",
   "metadata": {},
   "outputs": [
    {
     "data": {
      "text/html": [
       "<div>\n",
       "<style scoped>\n",
       "    .dataframe tbody tr th:only-of-type {\n",
       "        vertical-align: middle;\n",
       "    }\n",
       "\n",
       "    .dataframe tbody tr th {\n",
       "        vertical-align: top;\n",
       "    }\n",
       "\n",
       "    .dataframe thead th {\n",
       "        text-align: right;\n",
       "    }\n",
       "</style>\n",
       "<table border=\"1\" class=\"dataframe\">\n",
       "  <thead>\n",
       "    <tr style=\"text-align: right;\">\n",
       "      <th></th>\n",
       "      <th>dateRep</th>\n",
       "      <th>day</th>\n",
       "      <th>month</th>\n",
       "      <th>year</th>\n",
       "      <th>cases</th>\n",
       "      <th>deaths</th>\n",
       "      <th>countriesAndTerritories</th>\n",
       "      <th>geoId</th>\n",
       "      <th>countryterritoryCode</th>\n",
       "      <th>popData2020</th>\n",
       "      <th>continentExp</th>\n",
       "      <th>cluster</th>\n",
       "    </tr>\n",
       "  </thead>\n",
       "  <tbody>\n",
       "    <tr>\n",
       "      <th>0</th>\n",
       "      <td>09/05/2022</td>\n",
       "      <td>9</td>\n",
       "      <td>5</td>\n",
       "      <td>2022</td>\n",
       "      <td>4787</td>\n",
       "      <td>3</td>\n",
       "      <td>Austria</td>\n",
       "      <td>AT</td>\n",
       "      <td>AUT</td>\n",
       "      <td>8901064</td>\n",
       "      <td>Europe</td>\n",
       "      <td>0</td>\n",
       "    </tr>\n",
       "    <tr>\n",
       "      <th>15450</th>\n",
       "      <td>03/02/2022</td>\n",
       "      <td>3</td>\n",
       "      <td>2</td>\n",
       "      <td>2022</td>\n",
       "      <td>240</td>\n",
       "      <td>3</td>\n",
       "      <td>Malta</td>\n",
       "      <td>MT</td>\n",
       "      <td>MLT</td>\n",
       "      <td>514564</td>\n",
       "      <td>Europe</td>\n",
       "      <td>0</td>\n",
       "    </tr>\n",
       "    <tr>\n",
       "      <th>15449</th>\n",
       "      <td>04/02/2022</td>\n",
       "      <td>4</td>\n",
       "      <td>2</td>\n",
       "      <td>2022</td>\n",
       "      <td>214</td>\n",
       "      <td>1</td>\n",
       "      <td>Malta</td>\n",
       "      <td>MT</td>\n",
       "      <td>MLT</td>\n",
       "      <td>514564</td>\n",
       "      <td>Europe</td>\n",
       "      <td>0</td>\n",
       "    </tr>\n",
       "    <tr>\n",
       "      <th>15448</th>\n",
       "      <td>05/02/2022</td>\n",
       "      <td>5</td>\n",
       "      <td>2</td>\n",
       "      <td>2022</td>\n",
       "      <td>195</td>\n",
       "      <td>5</td>\n",
       "      <td>Malta</td>\n",
       "      <td>MT</td>\n",
       "      <td>MLT</td>\n",
       "      <td>514564</td>\n",
       "      <td>Europe</td>\n",
       "      <td>0</td>\n",
       "    </tr>\n",
       "    <tr>\n",
       "      <th>15447</th>\n",
       "      <td>06/02/2022</td>\n",
       "      <td>6</td>\n",
       "      <td>2</td>\n",
       "      <td>2022</td>\n",
       "      <td>158</td>\n",
       "      <td>4</td>\n",
       "      <td>Malta</td>\n",
       "      <td>MT</td>\n",
       "      <td>MLT</td>\n",
       "      <td>514564</td>\n",
       "      <td>Europe</td>\n",
       "      <td>0</td>\n",
       "    </tr>\n",
       "    <tr>\n",
       "      <th>...</th>\n",
       "      <td>...</td>\n",
       "      <td>...</td>\n",
       "      <td>...</td>\n",
       "      <td>...</td>\n",
       "      <td>...</td>\n",
       "      <td>...</td>\n",
       "      <td>...</td>\n",
       "      <td>...</td>\n",
       "      <td>...</td>\n",
       "      <td>...</td>\n",
       "      <td>...</td>\n",
       "      <td>...</td>\n",
       "    </tr>\n",
       "    <tr>\n",
       "      <th>21866</th>\n",
       "      <td>09/01/2022</td>\n",
       "      <td>9</td>\n",
       "      <td>1</td>\n",
       "      <td>2022</td>\n",
       "      <td>127894</td>\n",
       "      <td>136</td>\n",
       "      <td>Spain</td>\n",
       "      <td>ES</td>\n",
       "      <td>ESP</td>\n",
       "      <td>47332614</td>\n",
       "      <td>Europe</td>\n",
       "      <td>2</td>\n",
       "    </tr>\n",
       "    <tr>\n",
       "      <th>21862</th>\n",
       "      <td>13/01/2022</td>\n",
       "      <td>13</td>\n",
       "      <td>1</td>\n",
       "      <td>2022</td>\n",
       "      <td>118589</td>\n",
       "      <td>184</td>\n",
       "      <td>Spain</td>\n",
       "      <td>ES</td>\n",
       "      <td>ESP</td>\n",
       "      <td>47332614</td>\n",
       "      <td>Europe</td>\n",
       "      <td>2</td>\n",
       "    </tr>\n",
       "    <tr>\n",
       "      <th>21861</th>\n",
       "      <td>14/01/2022</td>\n",
       "      <td>14</td>\n",
       "      <td>1</td>\n",
       "      <td>2022</td>\n",
       "      <td>106601</td>\n",
       "      <td>191</td>\n",
       "      <td>Spain</td>\n",
       "      <td>ES</td>\n",
       "      <td>ESP</td>\n",
       "      <td>47332614</td>\n",
       "      <td>Europe</td>\n",
       "      <td>2</td>\n",
       "    </tr>\n",
       "    <tr>\n",
       "      <th>21859</th>\n",
       "      <td>16/01/2022</td>\n",
       "      <td>16</td>\n",
       "      <td>1</td>\n",
       "      <td>2022</td>\n",
       "      <td>100899</td>\n",
       "      <td>214</td>\n",
       "      <td>Spain</td>\n",
       "      <td>ES</td>\n",
       "      <td>ESP</td>\n",
       "      <td>47332614</td>\n",
       "      <td>Europe</td>\n",
       "      <td>2</td>\n",
       "    </tr>\n",
       "    <tr>\n",
       "      <th>21847</th>\n",
       "      <td>28/01/2022</td>\n",
       "      <td>28</td>\n",
       "      <td>1</td>\n",
       "      <td>2022</td>\n",
       "      <td>67530</td>\n",
       "      <td>248</td>\n",
       "      <td>Spain</td>\n",
       "      <td>ES</td>\n",
       "      <td>ESP</td>\n",
       "      <td>47332614</td>\n",
       "      <td>Europe</td>\n",
       "      <td>2</td>\n",
       "    </tr>\n",
       "  </tbody>\n",
       "</table>\n",
       "<p>23427 rows × 12 columns</p>\n",
       "</div>"
      ],
      "text/plain": [
       "          dateRep  day  month  year   cases  deaths countriesAndTerritories  \\\n",
       "0      09/05/2022    9      5  2022    4787       3                 Austria   \n",
       "15450  03/02/2022    3      2  2022     240       3                   Malta   \n",
       "15449  04/02/2022    4      2  2022     214       1                   Malta   \n",
       "15448  05/02/2022    5      2  2022     195       5                   Malta   \n",
       "15447  06/02/2022    6      2  2022     158       4                   Malta   \n",
       "...           ...  ...    ...   ...     ...     ...                     ...   \n",
       "21866  09/01/2022    9      1  2022  127894     136                   Spain   \n",
       "21862  13/01/2022   13      1  2022  118589     184                   Spain   \n",
       "21861  14/01/2022   14      1  2022  106601     191                   Spain   \n",
       "21859  16/01/2022   16      1  2022  100899     214                   Spain   \n",
       "21847  28/01/2022   28      1  2022   67530     248                   Spain   \n",
       "\n",
       "      geoId countryterritoryCode  popData2020 continentExp  cluster  \n",
       "0        AT                  AUT      8901064       Europe        0  \n",
       "15450    MT                  MLT       514564       Europe        0  \n",
       "15449    MT                  MLT       514564       Europe        0  \n",
       "15448    MT                  MLT       514564       Europe        0  \n",
       "15447    MT                  MLT       514564       Europe        0  \n",
       "...     ...                  ...          ...          ...      ...  \n",
       "21866    ES                  ESP     47332614       Europe        2  \n",
       "21862    ES                  ESP     47332614       Europe        2  \n",
       "21861    ES                  ESP     47332614       Europe        2  \n",
       "21859    ES                  ESP     47332614       Europe        2  \n",
       "21847    ES                  ESP     47332614       Europe        2  \n",
       "\n",
       "[23427 rows x 12 columns]"
      ]
     },
     "execution_count": 28,
     "metadata": {},
     "output_type": "execute_result"
    }
   ],
   "source": [
    "df.sort_values(by=['cluster'])"
   ]
  },
  {
   "cell_type": "code",
   "execution_count": 29,
   "id": "fa5a3a0e",
   "metadata": {},
   "outputs": [
    {
     "data": {
      "text/html": [
       "<div>\n",
       "<style scoped>\n",
       "    .dataframe tbody tr th:only-of-type {\n",
       "        vertical-align: middle;\n",
       "    }\n",
       "\n",
       "    .dataframe tbody tr th {\n",
       "        vertical-align: top;\n",
       "    }\n",
       "\n",
       "    .dataframe thead th {\n",
       "        text-align: right;\n",
       "    }\n",
       "</style>\n",
       "<table border=\"1\" class=\"dataframe\">\n",
       "  <thead>\n",
       "    <tr style=\"text-align: right;\">\n",
       "      <th></th>\n",
       "      <th>dateRep</th>\n",
       "      <th>day</th>\n",
       "      <th>month</th>\n",
       "      <th>year</th>\n",
       "      <th>cases</th>\n",
       "      <th>deaths</th>\n",
       "      <th>countriesAndTerritories</th>\n",
       "      <th>geoId</th>\n",
       "      <th>countryterritoryCode</th>\n",
       "      <th>popData2020</th>\n",
       "      <th>continentExp</th>\n",
       "    </tr>\n",
       "  </thead>\n",
       "  <tbody>\n",
       "    <tr>\n",
       "      <th>0</th>\n",
       "      <td>09/05/2022</td>\n",
       "      <td>9</td>\n",
       "      <td>5</td>\n",
       "      <td>2022</td>\n",
       "      <td>4787.0</td>\n",
       "      <td>3.0</td>\n",
       "      <td>Austria</td>\n",
       "      <td>AT</td>\n",
       "      <td>AUT</td>\n",
       "      <td>8901064</td>\n",
       "      <td>Europe</td>\n",
       "    </tr>\n",
       "    <tr>\n",
       "      <th>1</th>\n",
       "      <td>08/05/2022</td>\n",
       "      <td>8</td>\n",
       "      <td>5</td>\n",
       "      <td>2022</td>\n",
       "      <td>3957.0</td>\n",
       "      <td>15.0</td>\n",
       "      <td>Austria</td>\n",
       "      <td>AT</td>\n",
       "      <td>AUT</td>\n",
       "      <td>8901064</td>\n",
       "      <td>Europe</td>\n",
       "    </tr>\n",
       "    <tr>\n",
       "      <th>2</th>\n",
       "      <td>07/05/2022</td>\n",
       "      <td>7</td>\n",
       "      <td>5</td>\n",
       "      <td>2022</td>\n",
       "      <td>3521.0</td>\n",
       "      <td>3.0</td>\n",
       "      <td>Austria</td>\n",
       "      <td>AT</td>\n",
       "      <td>AUT</td>\n",
       "      <td>8901064</td>\n",
       "      <td>Europe</td>\n",
       "    </tr>\n",
       "    <tr>\n",
       "      <th>3</th>\n",
       "      <td>06/05/2022</td>\n",
       "      <td>6</td>\n",
       "      <td>5</td>\n",
       "      <td>2022</td>\n",
       "      <td>5164.0</td>\n",
       "      <td>4.0</td>\n",
       "      <td>Austria</td>\n",
       "      <td>AT</td>\n",
       "      <td>AUT</td>\n",
       "      <td>8901064</td>\n",
       "      <td>Europe</td>\n",
       "    </tr>\n",
       "    <tr>\n",
       "      <th>4</th>\n",
       "      <td>05/05/2022</td>\n",
       "      <td>5</td>\n",
       "      <td>5</td>\n",
       "      <td>2022</td>\n",
       "      <td>6149.0</td>\n",
       "      <td>5.0</td>\n",
       "      <td>Austria</td>\n",
       "      <td>AT</td>\n",
       "      <td>AUT</td>\n",
       "      <td>8901064</td>\n",
       "      <td>Europe</td>\n",
       "    </tr>\n",
       "  </tbody>\n",
       "</table>\n",
       "</div>"
      ],
      "text/plain": [
       "      dateRep  day  month  year   cases  deaths countriesAndTerritories geoId  \\\n",
       "0  09/05/2022    9      5  2022  4787.0     3.0                 Austria    AT   \n",
       "1  08/05/2022    8      5  2022  3957.0    15.0                 Austria    AT   \n",
       "2  07/05/2022    7      5  2022  3521.0     3.0                 Austria    AT   \n",
       "3  06/05/2022    6      5  2022  5164.0     4.0                 Austria    AT   \n",
       "4  05/05/2022    5      5  2022  6149.0     5.0                 Austria    AT   \n",
       "\n",
       "  countryterritoryCode  popData2020 continentExp  \n",
       "0                  AUT      8901064       Europe  \n",
       "1                  AUT      8901064       Europe  \n",
       "2                  AUT      8901064       Europe  \n",
       "3                  AUT      8901064       Europe  \n",
       "4                  AUT      8901064       Europe  "
      ]
     },
     "execution_count": 29,
     "metadata": {},
     "output_type": "execute_result"
    }
   ],
   "source": [
    "#memprediksi kasus covid dengan linear regression\n",
    "dt = pd.read_csv('data_eropa.csv')\n",
    "dt.head()"
   ]
  },
  {
   "cell_type": "code",
   "execution_count": 30,
   "id": "6d9c606f",
   "metadata": {},
   "outputs": [],
   "source": [
    "#mengkelompokkan data berdasarkan wilayah\n",
    "grouped = dt.groupby('countriesAndTerritories')"
   ]
  },
  {
   "cell_type": "code",
   "execution_count": 31,
   "id": "6714cffa",
   "metadata": {},
   "outputs": [],
   "source": [
    "#memfilter data berdasarkan wilyah yang sudah ditentukan\n",
    "df = pd.DataFrame()\n",
    "for name,group in grouped:\n",
    "    if name == 'Bulgaria':\n",
    "        df = group"
   ]
  },
  {
   "cell_type": "code",
   "execution_count": 32,
   "id": "b8942c76",
   "metadata": {},
   "outputs": [
    {
     "name": "stdout",
     "output_type": "stream",
     "text": [
      "<class 'pandas.core.frame.DataFrame'>\n",
      "Int64Index: 796 entries, 1604 to 2399\n",
      "Data columns (total 11 columns):\n",
      " #   Column                   Non-Null Count  Dtype  \n",
      "---  ------                   --------------  -----  \n",
      " 0   dateRep                  796 non-null    object \n",
      " 1   day                      796 non-null    int64  \n",
      " 2   month                    796 non-null    int64  \n",
      " 3   year                     796 non-null    int64  \n",
      " 4   cases                    795 non-null    float64\n",
      " 5   deaths                   793 non-null    float64\n",
      " 6   countriesAndTerritories  796 non-null    object \n",
      " 7   geoId                    796 non-null    object \n",
      " 8   countryterritoryCode     796 non-null    object \n",
      " 9   popData2020              796 non-null    int64  \n",
      " 10  continentExp             796 non-null    object \n",
      "dtypes: float64(2), int64(4), object(5)\n",
      "memory usage: 74.6+ KB\n"
     ]
    }
   ],
   "source": [
    "df.info()"
   ]
  },
  {
   "cell_type": "code",
   "execution_count": 33,
   "id": "83a01c00",
   "metadata": {},
   "outputs": [
    {
     "name": "stdout",
     "output_type": "stream",
     "text": [
      "<class 'pandas.core.frame.DataFrame'>\n",
      "Int64Index: 796 entries, 1604 to 2399\n",
      "Data columns (total 11 columns):\n",
      " #   Column                   Non-Null Count  Dtype \n",
      "---  ------                   --------------  ----- \n",
      " 0   dateRep                  796 non-null    object\n",
      " 1   day                      796 non-null    int64 \n",
      " 2   month                    796 non-null    int64 \n",
      " 3   year                     796 non-null    int64 \n",
      " 4   cases                    796 non-null    int64 \n",
      " 5   deaths                   796 non-null    int64 \n",
      " 6   countriesAndTerritories  796 non-null    object\n",
      " 7   geoId                    796 non-null    object\n",
      " 8   countryterritoryCode     796 non-null    object\n",
      " 9   popData2020              796 non-null    int64 \n",
      " 10  continentExp             796 non-null    object\n",
      "dtypes: int64(6), object(5)\n",
      "memory usage: 74.6+ KB\n"
     ]
    }
   ],
   "source": [
    "#menukar tipe data float pada cases dan deaths menjadi int\n",
    "df['cases'] = df['cases'].fillna(0)\n",
    "df['cases'] = df['cases'].astype(dtype='int64')\n",
    "\n",
    "df['deaths'] = df['deaths'].fillna(0)\n",
    "df['deaths'] = df['deaths'].astype(dtype='int64')\n",
    "\n",
    "df.info()"
   ]
  },
  {
   "cell_type": "code",
   "execution_count": 34,
   "id": "6355866c",
   "metadata": {},
   "outputs": [],
   "source": [
    "df = df[['day','month','year','cases','deaths']]\n",
    "df = df.iloc[::-1]\n",
    "xFrame = df.drop('deaths',axis = 1)\n",
    "yFrame = df['deaths']"
   ]
  },
  {
   "cell_type": "code",
   "execution_count": 35,
   "id": "f35dcd55",
   "metadata": {},
   "outputs": [],
   "source": [
    "#membagi dara menjadi data latih dan data uji\n",
    "xtrain,xtest,ytrain,ytest = train_test_split(xFrame.values,yFrame.values,test_size = 0.25,shuffle=False)"
   ]
  },
  {
   "cell_type": "code",
   "execution_count": 36,
   "id": "74569822",
   "metadata": {},
   "outputs": [],
   "source": [
    "#memprediksi \n",
    "model = LinearRegression()\n",
    "model.fit(xtrain,ytrain)\n",
    "prediction = model.predict(xtest)"
   ]
  },
  {
   "cell_type": "code",
   "execution_count": 37,
   "id": "c80a86b5",
   "metadata": {},
   "outputs": [
    {
     "data": {
      "image/png": "[encoded data removed]",
      "text/plain": [
       "<Figure size 432x288 with 1 Axes>"
      ]
     },
     "metadata": {
      "needs_background": "light"
     },
     "output_type": "display_data"
    }
   ],
   "source": [
    "plt.plot(df.index[:-len(prediction)],ytrain,label=\"Training\")\n",
    "plt.plot(df.index[-len(prediction):],ytest,label=\"actual\")\n",
    "plt.plot(df.index[-len(prediction):],prediction,label=\"prediction\")\n",
    "plt.title(\"Visualisasi Prediksi Covid-19\")\n",
    "plt.legend(loc=1)\n",
    "plt.show()"
   ]
  },
  {
   "cell_type": "code",
   "execution_count": null,
   "id": "7c440fe0",
   "metadata": {},
   "outputs": [],
   "source": []
  }
 ],
 "metadata": {
  "kernelspec": {
   "display_name": "Python 3 (ipykernel)",
   "language": "python",
   "name": "python3"
  },
  "language_info": {
   "codemirror_mode": {
    "name": "ipython",
    "version": 3
   },
   "file_extension": ".py",
   "mimetype": "text/x-python",
   "name": "python",
   "nbconvert_exporter": "python",
   "pygments_lexer": "ipython3",
   "version": "3.10.4"
  }
 },
 "nbformat": 4,
 "nbformat_minor": 5
}
